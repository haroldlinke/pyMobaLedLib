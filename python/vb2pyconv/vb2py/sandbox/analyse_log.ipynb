{
 "cells": [
  {
   "cell_type": "code",
   "execution_count": 6,
   "metadata": {
    "collapsed": true
   },
   "outputs": [],
   "source": [
    "import re\n",
    "import collections\n",
    "import datetime"
   ]
  },
  {
   "cell_type": "code",
   "execution_count": null,
   "outputs": [],
   "source": [
    "with open('/tmp/vb2py/gunicorn.error.log', 'r') as f:\n",
    "    log_text = f.read()"
   ],
   "metadata": {
    "collapsed": false,
    "pycharm": {
     "name": "#%%\n"
    }
   }
  },
  {
   "cell_type": "code",
   "execution_count": 27,
   "outputs": [],
   "source": [
    "timeouts = re.findall('(.*?)\\s\\[\\d+\\]\\s\\[CRITICAL\\]', log_text, re.MULTILINE)\n",
    "\n",
    "dates = []\n",
    "if timeouts:\n",
    "    for date_string in timeouts:\n",
    "        the_date = datetime.datetime.strptime(date_string, '%Y-%m-%d %H:%M:%S')\n",
    "        dates.append((the_date - datetime.timedelta(hours=5)).date())\n",
    "\n",
    "instances = collections.Counter(dates)"
   ],
   "metadata": {
    "collapsed": false,
    "pycharm": {
     "name": "#%%\n"
    }
   }
  },
  {
   "cell_type": "code",
   "execution_count": 18,
   "outputs": [
    {
     "data": {
      "text/plain": "datetime.datetime(2020, 4, 13, 10, 47, 10)"
     },
     "execution_count": 18,
     "metadata": {},
     "output_type": "execute_result"
    }
   ],
   "source": [
    "datetime.datetime.strptime('2020-04-13 10:47:10', '%Y-%m-%d %H:%M:%S')\n"
   ],
   "metadata": {
    "collapsed": false,
    "pycharm": {
     "name": "#%%\n"
    }
   }
  },
  {
   "cell_type": "code",
   "execution_count": 28,
   "outputs": [
    {
     "name": "stdout",
     "output_type": "stream",
     "text": [
      "04-13 1\n",
      "04-14 0\n",
      "04-15 3\n",
      "04-16 3\n",
      "04-17 0\n",
      "04-18 1\n",
      "04-19 1\n",
      "04-20 1\n",
      "04-21 0\n",
      "04-22 0\n",
      "04-23 0\n",
      "04-24 2\n",
      "04-25 4\n",
      "04-26 10\n",
      "04-27 20\n",
      "04-28 1\n",
      "04-29 5\n",
      "04-30 4\n",
      "05-01 22\n",
      "05-02 5\n",
      "05-03 10\n",
      "05-04 10\n",
      "05-05 7\n",
      "05-06 5\n",
      "05-07 10\n",
      "05-08 12\n",
      "05-09 3\n",
      "05-10 1\n",
      "05-11 1\n",
      "05-12 7\n",
      "05-13 11\n",
      "05-14 3\n",
      "05-15 6\n",
      "05-16 5\n",
      "05-17 3\n",
      "05-18 9\n",
      "05-19 8\n",
      "05-20 29\n",
      "05-21 9\n",
      "05-22 8\n",
      "05-23 0\n",
      "05-24 3\n",
      "05-25 11\n",
      "05-26 15\n",
      "05-27 1\n",
      "05-28 2\n",
      "05-29 10\n",
      "05-30 1\n"
     ]
    }
   ],
   "source": [
    "start_date = datetime.date(2020, 4, 13)\n",
    "all_dates = [start_date + datetime.timedelta(days=idx) for idx in range(48)]\n",
    "for the_date in all_dates:\n",
    "    print(the_date.strftime('%m-%d'), instances[the_date])"
   ],
   "metadata": {
    "collapsed": false,
    "pycharm": {
     "name": "#%%\n"
    }
   }
  }
 ],
 "metadata": {
  "kernelspec": {
   "display_name": "Python 3",
   "language": "python",
   "name": "python3"
  },
  "language_info": {
   "codemirror_mode": {
    "name": "ipython",
    "version": 2
   },
   "file_extension": ".py",
   "mimetype": "text/x-python",
   "name": "python",
   "nbconvert_exporter": "python",
   "pygments_lexer": "ipython2",
   "version": "2.7.6"
  }
 },
 "nbformat": 4,
 "nbformat_minor": 0
}